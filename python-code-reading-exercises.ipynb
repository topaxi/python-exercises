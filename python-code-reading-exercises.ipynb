{
 "cells": [
  {
   "cell_type": "markdown",
   "metadata": {},
   "source": [
    "# Code Reading Exercises"
   ]
  },
  {
   "cell_type": "markdown",
   "metadata": {},
   "source": [
    "## Strings"
   ]
  },
  {
   "cell_type": "code",
   "execution_count": 85,
   "metadata": {},
   "outputs": [
    {
     "data": {
      "text/plain": [
       "'HELLO, WORLD!'"
      ]
     },
     "metadata": {},
     "output_type": "display_data"
    }
   ],
   "source": [
    "text = \"Hello, world!\"\n",
    "text = text.upper()\n",
    "text = text.replace(\"world\", \"Upsi\")\n",
    "\n",
    "print(text)"
   ]
  },
  {
   "cell_type": "code",
   "execution_count": null,
   "metadata": {},
   "outputs": [],
   "source": [
    "text = \"Lorem ipsum dolor sit amet, consectetur adipiscing elit.\"\n",
    "\n",
    "lowercase_text = text.lower()\n",
    "\n",
    "# Count the occurrences of the word \"nunc\"\n",
    "word_count = lowercase_text.count(\"nunc\")\n",
    "\n",
    "# Replace all occurrences of \"nunc\" with \"Lorem\"\n",
    "replaced_text = lowercase_text.replace(\"nunc\", \"Lorem\")\n",
    "\n",
    "# Split the text into a list of words\n",
    "words = text.split()\n",
    "\n",
    "# Find the longest word in the text\n",
    "longest_word = max(words, key=len)\n",
    "\n",
    "# Print the results\n",
    "print(f\"Lowercase text: {lowercase_text}\")\n",
    "print(f\"Word count: {word_count}\")\n",
    "print(f\"Replaced text: {replaced_text}\")\n",
    "print(f\"Longest word: {longest_word}\")\n"
   ]
  },
  {
   "cell_type": "markdown",
   "metadata": {},
   "source": [
    "## Lists"
   ]
  },
  {
   "cell_type": "code",
   "execution_count": null,
   "metadata": {},
   "outputs": [],
   "source": [
    "x = [1, 2, 3]\n",
    "\n",
    "x.extend([4, 5])\n",
    "x.insert(1, 5)\n",
    "x.pop()\n",
    "\n",
    "print(x)"
   ]
  },
  {
   "cell_type": "code",
   "execution_count": 57,
   "metadata": {},
   "outputs": [
    {
     "data": {
      "text/plain": [
       "[1, 3, 5, 6, 10]"
      ]
     },
     "metadata": {},
     "output_type": "display_data"
    }
   ],
   "source": [
    "numbers = [10, 5, 8, 3, 1]\n",
    "\n",
    "numbers.insert(4, 6)\n",
    "\n",
    "index = numbers.index(8)\n",
    "numbers.pop(index)\n",
    "\n",
    "numbers.sort()\n",
    "\n",
    "print(numbers)\n"
   ]
  },
  {
   "cell_type": "code",
   "execution_count": 55,
   "metadata": {},
   "outputs": [
    {
     "data": {
      "text/plain": [
       "[9, 8, 6, 4, 2, 2, 1, 0]"
      ]
     },
     "metadata": {},
     "output_type": "display_data"
    }
   ],
   "source": [
    "numbers = [1, 2, 2, 3, 4, 5]\n",
    "\n",
    "numbers.append(6)\n",
    "\n",
    "numbers.extend([7, 8, 9])\n",
    "\n",
    "numbers.insert(0, 0)\n",
    "\n",
    "numbers.remove(5)\n",
    "\n",
    "index = numbers.index(3)\n",
    "\n",
    "numbers.pop(index)\n",
    "\n",
    "count = numbers.count(2)\n",
    "\n",
    "numbers.reverse()\n",
    "\n",
    "numbers.pop(count)\n",
    "\n",
    "print(numbers)\n"
   ]
  },
  {
   "cell_type": "code",
   "execution_count": null,
   "metadata": {},
   "outputs": [],
   "source": [
    "fruits = ['apple', 'banana', 'orange']\n",
    "\n",
    "fruits.append('grape')\n",
    "fruits.extend(['kiwi', 'mango'])\n",
    "fruits.pop(0)\n",
    "\n",
    "fruits_string = ', '.join(fruits)\n",
    "\n",
    "print(fruits_string)"
   ]
  },
  {
   "cell_type": "code",
   "execution_count": null,
   "metadata": {},
   "outputs": [],
   "source": [
    "text = \"Our dog, 'Upsi', is a cute bernese mountain dog, she eats a lot, but she goes on a lot of walks and does physio practises. She is a very good dog.\"\n",
    "\n",
    "lines = text.split(\"\\n\")\n",
    "\n",
    "matched_words = []\n",
    "for line in lines:\n",
    "    for word in line.split(\" \"):\n",
    "        if word.startswith(\"e\") or word.endswith(\"d\"):\n",
    "            matched_words.append(word)\n",
    "\n",
    "print(matched_words)"
   ]
  },
  {
   "cell_type": "code",
   "execution_count": 88,
   "metadata": {},
   "outputs": [
    {
     "data": {
      "text/plain": [
       "['sit', 'amet', 'elit', 'Lorem', 'ipsum', 'dolor', 'adipiscing', 'consectetur']"
      ]
     },
     "metadata": {},
     "output_type": "display_data"
    }
   ],
   "source": [
    "import re\n",
    "\n",
    "text = \"Lorem ipsum dolor sit amet, consectetur adipiscing elit\"\n",
    "text = re.sub(r'\\W+', ' ', text) # sub is short for substitute \n",
    "\n",
    "words = text.split()\n",
    "\n",
    "print(sorted(words, key=len))"
   ]
  },
  {
   "cell_type": "markdown",
   "metadata": {},
   "source": [
    "## Dictionaries"
   ]
  },
  {
   "cell_type": "code",
   "execution_count": 58,
   "metadata": {},
   "outputs": [
    {
     "data": {
      "text/plain": [
       "{'Alice': 90, 'Bob': 85, 'Emma': 95}"
      ]
     },
     "metadata": {},
     "output_type": "display_data"
    }
   ],
   "source": [
    "student_scores = {\n",
    "    \"Alice\": 90,\n",
    "    \"Bob\": 80,\n",
    "    \"Charlie\": 75\n",
    "}\n",
    "\n",
    "student_scores[\"Emma\"] = 95\n",
    "\n",
    "student_scores[\"Bob\"] = 85\n",
    "\n",
    "del student_scores[\"Charlie\"]\n",
    "\n",
    "print(student_scores)\n"
   ]
  },
  {
   "cell_type": "code",
   "execution_count": 60,
   "metadata": {},
   "outputs": [
    {
     "data": {
      "text/plain": [
       "{'John': {'age': 30, 'position': 'Manager', 'salary': 50000},\n",
       " 'Emily': {'age': 25, 'position': 'Developer', 'salary': 55000},\n",
       " 'Winston': {'age': 28, 'position': 'Designer', 'salary': 38000}}"
      ]
     },
     "metadata": {},
     "output_type": "display_data"
    }
   ],
   "source": [
    "# Dictionary Exercise\n",
    "employee_data = {\n",
    "    \"John\": {\n",
    "        \"age\": 30,\n",
    "        \"position\": \"Manager\",\n",
    "        \"salary\": 50000\n",
    "    },\n",
    "    \"Emily\": {\n",
    "        \"age\": 25,\n",
    "        \"position\": \"Developer\",\n",
    "        \"salary\": 40000\n",
    "    },\n",
    "    \"Michael\": {\n",
    "        \"age\": 35,\n",
    "        \"position\": \"Analyst\",\n",
    "        \"salary\": 45000\n",
    "    }\n",
    "}\n",
    "\n",
    "employee_data[\"Winston\"] = {\n",
    "    \"age\": 28,\n",
    "    \"position\": \"Designer\",\n",
    "    \"salary\": 38000\n",
    "}\n",
    "\n",
    "employee_data[\"Emily\"][\"salary\"] = 55000\n",
    "\n",
    "del employee_data[\"Michael\"]\n",
    "\n",
    "print(employee_data)"
   ]
  },
  {
   "cell_type": "code",
   "execution_count": 61,
   "metadata": {},
   "outputs": [
    {
     "data": {
      "text/plain": [
       "{'the': 3,\n",
       " 'fox': 3,\n",
       " 'dog': 2,\n",
       " 'The': 1,\n",
       " 'quick': 1,\n",
       " 'brown': 1,\n",
       " 'jumps': 1,\n",
       " 'over': 1,\n",
       " 'lazy': 1}"
      ]
     },
     "metadata": {},
     "output_type": "display_data"
    }
   ],
   "source": [
    "sentence = \"The quick brown fox jumps over the lazy dog\"\n",
    "words = sentence.split()\n",
    "\n",
    "word_count = {\"the\": 2, \"fox\": 2, \"dog\": 1}\n",
    "\n",
    "for word in words:\n",
    "    if word in word_count:\n",
    "        word_count[word] += 1\n",
    "    else:\n",
    "        word_count[word] = 1\n",
    "\n",
    "print(word_count)"
   ]
  },
  {
   "cell_type": "code",
   "execution_count": 62,
   "metadata": {},
   "outputs": [
    {
     "data": {
      "text/plain": [
       "{'Noun': ['dog', 'cat', 'house', 'tree'],\n",
       " 'Verb': ['run', 'jump'],\n",
       " 'Adjective': ['big', 'small', 'happy', 'sad', 'angry'],\n",
       " 'Adverb': ['quickly', 'slowly']}"
      ]
     },
     "metadata": {},
     "output_type": "display_data"
    }
   ],
   "source": [
    "pos_tags = {\n",
    "    \"Noun\": [\"dog\", \"cat\", \"house\"],\n",
    "    \"Verb\": [\"run\", \"jump\", \"play\"],\n",
    "    \"Adjective\": [\"big\", \"small\", \"happy\"]\n",
    "}\n",
    "\n",
    "pos_tags[\"Noun\"].append(\"tree\")\n",
    "pos_tags[\"Verb\"].remove(\"play\")\n",
    "pos_tags[\"Adjective\"].extend([\"sad\", \"angry\"])\n",
    "pos_tags[\"Adverb\"] = [\"quickly\", \"slowly\"]\n",
    "\n",
    "print(pos_tags)"
   ]
  },
  {
   "cell_type": "markdown",
   "metadata": {},
   "source": [
    "## Loops"
   ]
  },
  {
   "cell_type": "code",
   "execution_count": 63,
   "metadata": {},
   "outputs": [
    {
     "data": {
      "text/plain": [
       "20"
      ]
     },
     "metadata": {},
     "output_type": "display_data"
    }
   ],
   "source": [
    "i = 20\n",
    "o = 0\n",
    "\n",
    "while i <= 20:\n",
    "    o = i\n",
    "    i += 1\n",
    "\n",
    "print(o)"
   ]
  },
  {
   "cell_type": "code",
   "execution_count": 65,
   "metadata": {},
   "outputs": [
    {
     "data": {
      "text/plain": [
       "'1 2 3 4 5 '"
      ]
     },
     "metadata": {},
     "output_type": "display_data"
    }
   ],
   "source": [
    "numbers = [1, 2, 3, 4, 5]\n",
    "index = 0\n",
    "result = \"\"\n",
    "\n",
    "while index < len(numbers):\n",
    "    result += str(numbers[index]) + \" \"\n",
    "    index += 1\n",
    "\n",
    "print(result)"
   ]
  },
  {
   "cell_type": "code",
   "execution_count": 66,
   "metadata": {},
   "outputs": [
    {
     "data": {
      "text/plain": [
       "{'A': [2, 3, 4], 'B': [5, 6, 7], 'C': [8, 9, 10]}"
      ]
     },
     "metadata": {},
     "output_type": "display_data"
    }
   ],
   "source": [
    "numbers = {\n",
    "    \"A\": [1, 2, 3],\n",
    "    \"B\": [4, 5, 6],\n",
    "    \"C\": [7, 8, 9]\n",
    "}\n",
    "\n",
    "for a in numbers:\n",
    "    i = 0\n",
    "    while i < len(numbers[a]):\n",
    "        numbers[a][i] += 1\n",
    "        i += 1\n",
    "\n",
    "print(numbers)"
   ]
  },
  {
   "cell_type": "code",
   "execution_count": 70,
   "metadata": {},
   "outputs": [
    {
     "data": {
      "text/plain": [
       "6"
      ]
     },
     "metadata": {},
     "output_type": "display_data"
    }
   ],
   "source": [
    "result = 0\n",
    "for i in range(1, 4):\n",
    "    result += i\n",
    "print(result)"
   ]
  },
  {
   "cell_type": "code",
   "execution_count": null,
   "metadata": {},
   "outputs": [],
   "source": [
    "numbers = [1, 2, 3, 4, 5]\n",
    "x = 0\n",
    "\n",
    "for num in numbers:\n",
    "    x += num\n",
    "\n",
    "print(x)"
   ]
  },
  {
   "cell_type": "code",
   "execution_count": 73,
   "metadata": {},
   "outputs": [
    {
     "data": {
      "text/plain": [
       "'0 Alice, 1 Bob, 2 Charlie, 3 David, 4 Emily'"
      ]
     },
     "metadata": {},
     "output_type": "display_data"
    }
   ],
   "source": [
    "names = [\"Alice\", \"Bob\", \"Charlie\", \"David\", \"Emily\"]\n",
    "output = []\n",
    "\n",
    "for a, b in enumerate(names):\n",
    "    output.append(f\"{a} {b}\")\n",
    "\n",
    "print(', '.join(output))\n"
   ]
  },
  {
   "cell_type": "code",
   "execution_count": 76,
   "metadata": {},
   "outputs": [
    {
     "data": {
      "text/plain": [
       "['Alice 25', 'Bob 30', 'Charlie 35']"
      ]
     },
     "metadata": {},
     "output_type": "display_data"
    }
   ],
   "source": [
    "students = {\n",
    "    \"Alice\": 25,\n",
    "    \"Bob\": 30,\n",
    "    \"Charlie\": 35\n",
    "}\n",
    "output = []\n",
    "\n",
    "for a, b in students.items():\n",
    "    output.append(f\"{a} {b}\")\n",
    "\n",
    "print(output)\n"
   ]
  },
  {
   "cell_type": "markdown",
   "metadata": {},
   "source": [
    "## More exercises"
   ]
  },
  {
   "cell_type": "code",
   "execution_count": 79,
   "metadata": {},
   "outputs": [
    {
     "data": {
      "text/plain": [
       "'47 14 1'"
      ]
     },
     "metadata": {},
     "output_type": "display_data"
    }
   ],
   "source": [
    "numbers = [10, 5, 8, 2, 1, 14, 7]\n",
    "\n",
    "print(f\"{sum(numbers)} {max(numbers)} {min(numbers)}\")\n"
   ]
  },
  {
   "cell_type": "markdown",
   "metadata": {},
   "source": [
    "For the following few functions, in addition to guessing the output of the following functions, try to also give them a name that describes their function."
   ]
  },
  {
   "cell_type": "code",
   "execution_count": 80,
   "metadata": {},
   "outputs": [
    {
     "data": {
      "text/plain": [
       "3.0"
      ]
     },
     "metadata": {},
     "output_type": "display_data"
    }
   ],
   "source": [
    "def a(n):\n",
    "    return sum(n) / len(n)\n",
    "\n",
    "print(a([1, 2, 3, 4, 5]))"
   ]
  },
  {
   "cell_type": "code",
   "execution_count": 83,
   "metadata": {},
   "outputs": [
    {
     "data": {
      "text/plain": [
       "False"
      ]
     },
     "metadata": {},
     "output_type": "display_data"
    }
   ],
   "source": [
    "def b(n):\n",
    "    return n % 2 == 0\n",
    "\n",
    "print(b(1))"
   ]
  },
  {
   "cell_type": "code",
   "execution_count": 82,
   "metadata": {},
   "outputs": [
    {
     "data": {
      "text/plain": [
       "'olleH'"
      ]
     },
     "metadata": {},
     "output_type": "display_data"
    }
   ],
   "source": [
    "def c(s):\n",
    "    return s[::-1]\n",
    "\n",
    "print(c(\"Hello\"))"
   ]
  },
  {
   "cell_type": "code",
   "execution_count": 81,
   "metadata": {},
   "outputs": [
    {
     "data": {
      "text/plain": [
       "4"
      ]
     },
     "metadata": {},
     "output_type": "display_data"
    }
   ],
   "source": [
    "def d(s):\n",
    "    v = ['a', 'e', 'i', 'o', 'u']\n",
    "    c = 0\n",
    "    for ch in s:\n",
    "        if ch.lower() in v:\n",
    "            c += 1\n",
    "    return c\n",
    "\n",
    "print(d(\"Hello Upsi\"))"
   ]
  }
 ],
 "metadata": {
  "kernelspec": {
   "display_name": "Python 3",
   "language": "python",
   "name": "python3"
  },
  "language_info": {
   "codemirror_mode": {
    "name": "ipython",
    "version": 3
   },
   "file_extension": ".py",
   "mimetype": "text/x-python",
   "name": "python",
   "nbconvert_exporter": "python",
   "pygments_lexer": "ipython3",
   "version": "3.11.7"
  }
 },
 "nbformat": 4,
 "nbformat_minor": 2
}
