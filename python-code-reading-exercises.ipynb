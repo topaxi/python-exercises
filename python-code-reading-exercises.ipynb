{
  "cells": [
    {
      "cell_type": "markdown",
      "metadata": {},
      "source": [
        "# Code Reading Exercises"
      ]
    },
    {
      "cell_type": "markdown",
      "metadata": {},
      "source": [
        "## Strings"
      ]
    },
    {
      "cell_type": "code",
      "execution_count": null,
      "metadata": {},
      "outputs": [],
      "source": [
        "text = \"Hello, world!\"\n",
        "text = text.upper()\n",
        "text = text.replace(\"world\", \"Upsi\")\n",
        "\n",
        "print(text)"
      ]
    },
    {
      "cell_type": "code",
      "execution_count": null,
      "metadata": {},
      "outputs": [],
      "source": [
        "text = \"Lorem ipsum dolor sit amet, consectetur adipiscing elit.\"\n",
        "\n",
        "lower = text.lower()\n",
        "count = lower.count(\"it\")\n",
        "replace = lower.replace(\"nunc\", \"Lorem\")\n",
        "words = text.split()\n",
        "max_words = max(words, key=len)\n",
        "\n",
        "print(f\"Count: {count}, Replace: {replace}, Max_words: {max_words}\")"
      ]
    },
    {
      "cell_type": "code",
      "execution_count": null,
      "metadata": {},
      "outputs": [],
      "source": [
        "text = \"   Hello, world!   \"\n",
        "text = text.strip()\n",
        "\n",
        "print(text)"
      ]
    },
    {
      "cell_type": "code",
      "execution_count": null,
      "metadata": {},
      "outputs": [],
      "source": [
        "text = \"   Hello, world!   \"\n",
        "text = text.rstrip()\n",
        "\n",
        "print(text)"
      ]
    },
    {
      "cell_type": "code",
      "execution_count": null,
      "metadata": {},
      "outputs": [],
      "source": [
        "import string\n",
        "\n",
        "text = \"Hello, world! This is a sentence.\"\n",
        "stripped_text = text.strip(string.punctuation)\n",
        "\n",
        "print(stripped_text)"
      ]
    },
    {
      "cell_type": "code",
      "execution_count": null,
      "metadata": {},
      "outputs": [],
      "source": [
        "text = \"Hello, world!\"\n",
        "print(text[7:12])"
      ]
    },
    {
      "cell_type": "code",
      "execution_count": null,
      "metadata": {},
      "outputs": [],
      "source": [
        "text = \"Hello, world!\"\n",
        "print(text[-6:-1])"
      ]
    },
    {
      "cell_type": "code",
      "execution_count": null,
      "metadata": {},
      "outputs": [],
      "source": [
        "text = \"Hello, Upsi!\"\n",
        "print(text[7:])"
      ]
    },
    {
      "cell_type": "code",
      "execution_count": null,
      "metadata": {},
      "outputs": [],
      "source": [
        "text = \"Hello, world!\"\n",
        "print(text[:5])"
      ]
    },
    {
      "cell_type": "code",
      "execution_count": null,
      "metadata": {},
      "outputs": [],
      "source": [
        "text = \"Hello\"\n",
        "print(text[::-1])\n"
      ]
    },
    {
      "cell_type": "markdown",
      "metadata": {},
      "source": [
        "## Lists"
      ]
    },
    {
      "cell_type": "code",
      "execution_count": null,
      "metadata": {},
      "outputs": [],
      "source": [
        "x = [1, 2, 3]\n",
        "\n",
        "x.extend([4, 5])\n",
        "x.insert(1, 5)\n",
        "x.pop()\n",
        "\n",
        "print(x)"
      ]
    },
    {
      "cell_type": "code",
      "execution_count": null,
      "metadata": {},
      "outputs": [],
      "source": [
        "numbers = [10, 5, 8, 3, 1]\n",
        "\n",
        "numbers.insert(4, 6)\n",
        "\n",
        "index = numbers.index(8)\n",
        "numbers.pop(index)\n",
        "\n",
        "numbers.sort()\n",
        "\n",
        "print(numbers)\n"
      ]
    },
    {
      "cell_type": "code",
      "execution_count": null,
      "metadata": {},
      "outputs": [],
      "source": [
        "numbers = [1, 2, 2, 3, 4, 5]\n",
        "\n",
        "numbers.append(6)\n",
        "\n",
        "numbers.extend([7, 8, 9])\n",
        "\n",
        "numbers.insert(0, 0)\n",
        "\n",
        "numbers.remove(5)\n",
        "\n",
        "index = numbers.index(3)\n",
        "\n",
        "numbers.pop(index)\n",
        "\n",
        "count = numbers.count(2)\n",
        "\n",
        "numbers.reverse()\n",
        "\n",
        "numbers.pop(count)\n",
        "\n",
        "print(numbers)\n"
      ]
    },
    {
      "cell_type": "code",
      "execution_count": null,
      "metadata": {},
      "outputs": [],
      "source": [
        "numbers = [1, 2, 3, 4, 5, 6, 7, 8, 9, 10]\n",
        "print(numbers[2:7])"
      ]
    },
    {
      "cell_type": "code",
      "execution_count": null,
      "metadata": {},
      "outputs": [],
      "source": [
        "numbers = [1, 2, 3, 4, 5, 6, 7, 8, 9, 10]\n",
        "print(numbers[7:])"
      ]
    },
    {
      "cell_type": "code",
      "execution_count": null,
      "metadata": {},
      "outputs": [],
      "source": [
        "numbers = [1, 2, 3, 4, 5, 6, 7, 8, 9, 10]\n",
        "start = 2\n",
        "end = -3\n",
        "\n",
        "print(numbers[start:end])\n"
      ]
    },
    {
      "cell_type": "code",
      "execution_count": null,
      "metadata": {},
      "outputs": [],
      "source": [
        "fruits = ['apple', 'banana', 'orange']\n",
        "\n",
        "fruits.append('grape')\n",
        "fruits.extend(['kiwi', 'mango'])\n",
        "fruits.pop(0)\n",
        "\n",
        "fruits_string = ', '.join(fruits)\n",
        "\n",
        "print(fruits_string)"
      ]
    },
    {
      "cell_type": "code",
      "execution_count": null,
      "metadata": {},
      "outputs": [],
      "source": [
        "text = \"Our dog, 'Upsi', is a cute bernese mountain dog, she eats a lot, but she goes on a lot of walks and does physio practises. She is a very good dog.\"\n",
        "\n",
        "lines = text.split(\"\\n\")\n",
        "\n",
        "matched_words = []\n",
        "for line in lines:\n",
        "    for word in line.split(\" \"):\n",
        "        if word.startswith(\"e\") or word.endswith(\"d\"):\n",
        "            matched_words.append(word)\n",
        "\n",
        "print(matched_words)"
      ]
    },
    {
      "cell_type": "code",
      "execution_count": null,
      "metadata": {},
      "outputs": [],
      "source": [
        "import re\n",
        "\n",
        "text = \"Lorem ipsum dolor sit amet, consectetur adipiscing elit\"\n",
        "text = re.sub(r'\\W+', ' ', text) # sub is short for substitute \n",
        "\n",
        "words = text.split()\n",
        "\n",
        "print(sorted(words, key=len))"
      ]
    },
    {
      "cell_type": "code",
      "execution_count": null,
      "metadata": {},
      "outputs": [],
      "source": [
        "import string\n",
        "\n",
        "words = \"Hello, World! How are you?\".split()\n",
        "words = [word.strip(string.punctuation) for word in words]\n",
        "\n",
        "print(words)\n"
      ]
    },
    {
      "cell_type": "markdown",
      "metadata": {},
      "source": [
        "## Dictionaries"
      ]
    },
    {
      "cell_type": "code",
      "execution_count": null,
      "metadata": {},
      "outputs": [],
      "source": [
        "student_scores = {\n",
        "    \"Alice\": 90,\n",
        "    \"Bob\": 80,\n",
        "    \"Charlie\": 75\n",
        "}\n",
        "\n",
        "student_scores[\"Emma\"] = 95\n",
        "\n",
        "student_scores[\"Bob\"] = 85\n",
        "\n",
        "del student_scores[\"Charlie\"]\n",
        "\n",
        "print(student_scores)\n"
      ]
    },
    {
      "cell_type": "code",
      "execution_count": null,
      "metadata": {},
      "outputs": [],
      "source": [
        "# Dictionary Exercise\n",
        "employee_data = {\n",
        "    \"John\": {\n",
        "        \"age\": 30,\n",
        "        \"position\": \"Manager\",\n",
        "        \"salary\": 50000\n",
        "    },\n",
        "    \"Emily\": {\n",
        "        \"age\": 25,\n",
        "        \"position\": \"Developer\",\n",
        "        \"salary\": 40000\n",
        "    },\n",
        "    \"Michael\": {\n",
        "        \"age\": 35,\n",
        "        \"position\": \"Analyst\",\n",
        "        \"salary\": 45000\n",
        "    }\n",
        "}\n",
        "\n",
        "employee_data[\"Winston\"] = {\n",
        "    \"age\": 28,\n",
        "    \"position\": \"Designer\",\n",
        "    \"salary\": 38000\n",
        "}\n",
        "\n",
        "employee_data[\"Emily\"][\"salary\"] = 55000\n",
        "\n",
        "del employee_data[\"Michael\"]\n",
        "\n",
        "print(employee_data)"
      ]
    },
    {
      "cell_type": "code",
      "execution_count": null,
      "metadata": {},
      "outputs": [],
      "source": [
        "sentence = \"The quick brown fox jumps over the lazy dog\"\n",
        "words = sentence.split()\n",
        "\n",
        "word_count = {\"the\": 2, \"fox\": 2, \"dog\": 1}\n",
        "\n",
        "for word in words:\n",
        "    if word in word_count:\n",
        "        word_count[word] += 1\n",
        "    else:\n",
        "        word_count[word] = 1\n",
        "\n",
        "print(word_count)"
      ]
    },
    {
      "cell_type": "code",
      "execution_count": null,
      "metadata": {},
      "outputs": [],
      "source": [
        "pos_tags = {\n",
        "    \"Noun\": [\"dog\", \"cat\", \"house\"],\n",
        "    \"Verb\": [\"run\", \"jump\", \"play\"],\n",
        "    \"Adjective\": [\"big\", \"small\", \"happy\"]\n",
        "}\n",
        "\n",
        "pos_tags[\"Noun\"].append(\"tree\")\n",
        "pos_tags[\"Verb\"].remove(\"play\")\n",
        "pos_tags[\"Adjective\"].extend([\"sad\", \"angry\"])\n",
        "pos_tags[\"Adverb\"] = [\"quickly\", \"slowly\"]\n",
        "\n",
        "print(pos_tags)"
      ]
    },
    {
      "cell_type": "code",
      "execution_count": null,
      "metadata": {},
      "outputs": [],
      "source": [
        "text = \"Hello world, how are you?\"\n",
        "words = text.split()\n",
        "\n",
        "translations = {\n",
        "    \"Hello\": \"Bonjour\",\n",
        "    \"world,\": \"monde,\",\n",
        "    \"how\": \"comment\",\n",
        "    \"are\": \"êtes\",\n",
        "    \"you?\": \"vous?\"\n",
        "}\n",
        "\n",
        "for i, word in enumerate(words):\n",
        "    if word in translations:\n",
        "        words[i] = translations[word]\n",
        "\n",
        "translated_text = \" \".join(words)\n",
        "\n",
        "print(translated_text)"
      ]
    },
    {
      "cell_type": "markdown",
      "metadata": {},
      "source": [
        "## Loops"
      ]
    },
    {
      "cell_type": "code",
      "execution_count": null,
      "metadata": {},
      "outputs": [],
      "source": [
        "i = 20\n",
        "o = 0\n",
        "\n",
        "while i <= 20:\n",
        "    o = i\n",
        "    i += 1\n",
        "\n",
        "print(o)"
      ]
    },
    {
      "cell_type": "code",
      "execution_count": null,
      "metadata": {},
      "outputs": [],
      "source": [
        "numbers = [1, 2, 3, 4, 5]\n",
        "index = 0\n",
        "result = \"\"\n",
        "\n",
        "while index < len(numbers):\n",
        "    result += str(numbers[index]) + \" \"\n",
        "    index += 1\n",
        "\n",
        "print(result)"
      ]
    },
    {
      "cell_type": "code",
      "execution_count": null,
      "metadata": {},
      "outputs": [],
      "source": [
        "numbers = {\n",
        "    \"A\": [1, 2, 3],\n",
        "    \"B\": [4, 5, 6],\n",
        "    \"C\": [7, 8, 9]\n",
        "}\n",
        "\n",
        "for a in numbers:\n",
        "    i = 0\n",
        "    while i < len(numbers[a]):\n",
        "        numbers[a][i] += 1\n",
        "        i += 1\n",
        "\n",
        "print(numbers)"
      ]
    },
    {
      "cell_type": "code",
      "execution_count": null,
      "metadata": {},
      "outputs": [],
      "source": [
        "result = 0\n",
        "for i in range(1, 4):\n",
        "    result += i\n",
        "print(result)"
      ]
    },
    {
      "cell_type": "code",
      "execution_count": null,
      "metadata": {},
      "outputs": [],
      "source": [
        "numbers = [1, 2, 3, 4, 5]\n",
        "x = 0\n",
        "\n",
        "for num in numbers:\n",
        "    x += num\n",
        "\n",
        "print(x)"
      ]
    },
    {
      "cell_type": "code",
      "execution_count": null,
      "metadata": {},
      "outputs": [],
      "source": [
        "names = [\"Alice\", \"Bob\", \"Charlie\", \"David\", \"Emily\"]\n",
        "output = []\n",
        "\n",
        "for a, b in enumerate(names):\n",
        "    output.append(f\"{a} {b}\")\n",
        "\n",
        "print(', '.join(output))\n"
      ]
    },
    {
      "cell_type": "code",
      "execution_count": null,
      "metadata": {},
      "outputs": [],
      "source": [
        "students = {\n",
        "    \"Alice\": 25,\n",
        "    \"Bob\": 30,\n",
        "    \"Charlie\": 35\n",
        "}\n",
        "output = []\n",
        "\n",
        "for a, b in students.items():\n",
        "    output.append(f\"{a} {b}\")\n",
        "\n",
        "print(output)\n"
      ]
    },
    {
      "cell_type": "code",
      "execution_count": null,
      "metadata": {},
      "outputs": [],
      "source": [
        "numbers = [1, 2, 3, 4, 5]\n",
        "numbers = [num ** 2 for num in numbers]\n",
        "\n",
        "print(numbers)"
      ]
    },
    {
      "cell_type": "code",
      "execution_count": null,
      "metadata": {},
      "outputs": [],
      "source": [
        "numbers = [1, 2, 3, 4, 5, 6, 7, 8, 9, 10]\n",
        "numbers = [num for num in numbers if num % 2 == 0]\n",
        "\n",
        "print(numbers)"
      ]
    },
    {
      "cell_type": "markdown",
      "metadata": {},
      "source": [
        "## More exercises"
      ]
    },
    {
      "cell_type": "code",
      "execution_count": null,
      "metadata": {},
      "outputs": [],
      "source": [
        "numbers = [10, 5, 8, 2, 1, 14, 7]\n",
        "\n",
        "print(f\"{sum(numbers)} {max(numbers)} {min(numbers)}\")\n"
      ]
    },
    {
      "cell_type": "markdown",
      "metadata": {},
      "source": [
        "For the following few functions, in addition to guessing the output of the following functions, try to also give them a name that describes their function."
      ]
    },
    {
      "cell_type": "code",
      "execution_count": null,
      "metadata": {},
      "outputs": [],
      "source": [
        "def a(n):\n",
        "    return sum(n) / len(n)\n",
        "\n",
        "print(a([1, 2, 3, 4, 5]))"
      ]
    },
    {
      "cell_type": "code",
      "execution_count": null,
      "metadata": {},
      "outputs": [],
      "source": [
        "def b(n):\n",
        "    return n % 2 == 0\n",
        "\n",
        "print(b(1))"
      ]
    },
    {
      "cell_type": "code",
      "execution_count": null,
      "metadata": {},
      "outputs": [],
      "source": [
        "def c(s):\n",
        "    return s[::-1]\n",
        "\n",
        "print(c(\"Hello\"))"
      ]
    },
    {
      "cell_type": "code",
      "execution_count": null,
      "metadata": {},
      "outputs": [],
      "source": [
        "def d(s):\n",
        "    v = ['a', 'e', 'i', 'o', 'u']\n",
        "    c = 0\n",
        "    for ch in s:\n",
        "        if ch.lower() in v:\n",
        "            c += 1\n",
        "    return c\n",
        "\n",
        "print(d(\"Hello Upsi\"))"
      ]
    },
    {
      "cell_type": "markdown",
      "metadata": {},
      "source": [
        "## Regular Expressions"
      ]
    },
    {
      "cell_type": "code",
      "execution_count": null,
      "metadata": {},
      "outputs": [],
      "source": [
        "import re\n",
        "\n",
        "text = \"Hello, world! This is a sentence.\"\n",
        "text = re.sub(r'[^\\w\\s]', '', text)\n",
        "\n",
        "print(text)"
      ]
    }
  ],
  "metadata": {
    "kernelspec": {
      "display_name": "Python 3",
      "language": "python",
      "name": "python3"
    },
    "language_info": {
      "codemirror_mode": {
        "name": "ipython",
        "version": 3
      },
      "file_extension": ".py",
      "mimetype": "text/x-python",
      "name": "python",
      "nbconvert_exporter": "python",
      "pygments_lexer": "ipython3",
      "version": "3.11.7"
    }
  },
  "nbformat": 4,
  "nbformat_minor": 2
}
